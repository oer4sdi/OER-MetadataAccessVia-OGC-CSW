{
 "cells": [
  {
   "attachments": {},
   "cell_type": "markdown",
   "metadata": {},
   "source": [
    "# 3.4 Accessing metadata via Python from a Jupyter Notebook\n",
    "\n",
    "Now that we know how geoportals and QGIS work with OGC CSW catalog services, let's take a look behind the scenes and write our own software that interacts with catalog services.  \r\n",
    "## 3.4.1 Installing OWSLib\n",
    "\n",
    "But before we start, we first need to set up all the components that we need for thi, particularly OWSLibs.\r\n",
    "OWSLib is a Python library for client programming that supports working with OGC Web Services such as WMS, WFS or CSW. After installing the library, you will also need to import the CSW class from OWSLib and some methods for later use. If you are interested to learn more about OWSLib you can find the detailed documentation https://owslib.readthedocs.io/en/latest/.\r\n"
   ]
  },
  {
   "cell_type": "code",
   "execution_count": null,
   "metadata": {},
   "outputs": [],
   "source": [
    "%pip install OWSLib\n",
    "from owslib.csw import CatalogueServiceWeb\n",
    "from owslib.fes import PropertyIsEqualTo, BBox, PropertyIsLike\n"
   ]
  },
  {
   "attachments": {},
   "cell_type": "markdown",
   "metadata": {},
   "source": [
    "## 3.4.2 Creating a CatalogueServiceWeb object and connecting to the catalog\n",
    "\n",
    "Now we need the URL from a CSW catalog service. Let's use the Catalog Service from GDI-DE Geodatenkatalog that we used the previous examples, which has the url: https://gdk.gdi-de.org/gdi-de/srv/ger/csw    \n",
    "\r\n",
    "You can find the url by searching for “Geodatenkatalog” in the Geodatenkatalog and examining the links that are provided with the metadat\n",
    "\n",
    "We use this url to create a CatalogueServiceQeb object that is able to connect to the catalog servcice\n",
    ".\r\n"
   ]
  },
  {
   "cell_type": "code",
   "execution_count": null,
   "metadata": {},
   "outputs": [],
   "source": [
    "CSW_URL = 'https://gdk.gdi-de.org/gdi-de/srv/ger/csw'\n",
    "csw = CatalogueServiceWeb(CSW_URL)"
   ]
  },
  {
   "attachments": {},
   "cell_type": "markdown",
   "metadata": {},
   "source": [
    "\n",
    "***Yeah we got a connection!***\n",
    "\n",
    "## 3.4.3 Using CSW operations\n",
    "\n",
    "In the first sections of the tutorial we learned about the operations of a CSW. Can you remember any except the GetCapabilities() operation? If not here are some reminders for you of the main operations:     \n",
    "\n",
    "1. GetCapabilites(): This operation allows retrieving the available functions and properties of the CSW, including supported operations and data schema.\n",
    "\n",
    "2. DescribeRecord(): This operation allows retrieving information about the available metadata records, including the metadata schema and supported metadata elements. \n",
    "\n",
    "3. GetRecords(): This operation enables retrieving metadata records based on specific criteria such as keywords, spatial extents, or time intervals.\n",
    "\n",
    "4. GetRecordById(): This operation allows retrieving metadata records by their unique identification number. \n",
    "\n",
    "5. Transaction(): This operation supports adding, updating, or deleting metadata records in the CSW.\n",
    "\n",
    "\n",
    "**Let's take look on the operations that the catalog service supports:**"
   ]
  },
  {
   "cell_type": "code",
   "execution_count": null,
   "metadata": {},
   "outputs": [],
   "source": [
    "op = [op.name for op in csw.operations]\n",
    "print(op)"
   ]
  },
  {
   "attachments": {},
   "cell_type": "markdown",
   "metadata": {},
   "source": [
    "### 3.4.3.1 Using GetRecords for querying Metadata\n",
    "\n",
    "The GetRecords() operation from the CSW is implemented through the getrecords2() method from the OWSLib library. In the method you can define filter \"constraints\" on the result set. With the argument maxrecords you can also set the number of the first records that will be returned (The default would be 10). \n",
    "\n",
    "There are some methods like PropertyIsLike() or PropertyIsEqualTo(), which we imported in the beginning, to create filters. You can use string-type arguments to specify, which elements and values you want to search for. As Elements you can use for example:\n",
    "- csw:Title: which search for a specific title\n",
    "- csw:AnyText: which finds all records which contain the specific given string anywhere.\n",
    "\n",
    "After that you can get the results with the results method from the OWSLib library:\n"
   ]
  },
  {
   "cell_type": "code",
   "execution_count": null,
   "metadata": {},
   "outputs": [],
   "source": [
    "NSG_filter = PropertyIsLike('csw:Title', '%Naturschutzgebiete%')\n",
    "csw.getrecords2(constraints=[NSG_filter], maxrecords=20)\n",
    "csw.results"
   ]
  },
  {
   "attachments": {},
   "cell_type": "markdown",
   "metadata": {},
   "source": [
    "### 3.4.3.2 Iterating through the Result Set\n",
    "\n",
    "To get an more informative output, for example the titles or something else, of your results, you can make a for loop and print the records:\n"
   ]
  },
  {
   "cell_type": "code",
   "execution_count": null,
   "metadata": {},
   "outputs": [],
   "source": [
    "for rec in csw.records:\n",
    "    print(csw.records[rec].title)\n",
    "    print(csw.records[rec].abstract)\n",
    "    print(\" \")"
   ]
  },
  {
   "attachments": {},
   "cell_type": "markdown",
   "metadata": {},
   "source": [
    "### 3.4.3.3 Filtering by BBox\n",
    "\n",
    "You can also try to filter with BBox(). That will make it possible to filter for datasets in a specific area. The method will use an array with latitudes and longitudes. Therefore you need two points in this order: [latMin, longMin, latMax, longMax]. "
   ]
  },
  {
   "cell_type": "code",
   "execution_count": null,
   "metadata": {},
   "outputs": [],
   "source": [
    "bbox_query = BBox([52.839976, 7.474823, 53.098018, 7.911530])\n",
    "csw.getrecords2(constraints=[bbox_query])\n",
    "csw.results"
   ]
  },
  {
   "attachments": {},
   "cell_type": "markdown",
   "metadata": {},
   "source": [
    "## 3.4.4. Using the getRecordsByID Operation\n",
    "\n",
    "If you already know the identifier of our wanted dataset and want to look if it is in the catalog, you can also search for that aswell with the getrecordbyid() method. It represents the GetRecordsByID operation from the CSW."
   ]
  },
  {
   "cell_type": "code",
   "execution_count": null,
   "metadata": {},
   "outputs": [],
   "source": [
    "csw.getrecordbyid(id=['EE85FE8F-BD05-4A6D-813B-6ABC4514B18B'])\n",
    "csw.records['EE85FE8F-BD05-4A6D-813B-6ABC4514B18B'].title\n"
   ]
  },
  {
   "attachments": {},
   "cell_type": "markdown",
   "metadata": {},
   "source": [
    "## 3.4.5 Task: find the NSG dataset\n",
    "\n",
    "So now that you know how to search in an CSW with OWSLib try to find the dataset that we have found in the last excercise in the geoportal aswell with the mtheod getrecords2(). Use the next cell with incomple Pythin code as a starting point.. \n",
    "\n",
    "(be aware that simply running the next cell will result in some error messages..)"
   ]
  },
  {
   "cell_type": "code",
   "execution_count": null,
   "metadata": {},
   "outputs": [],
   "source": [
    "# define filters\n",
    "\n",
    "\n",
    "# GetRecords() method\n",
    "response = csw.getrecords2(constraints=[filter], maxrecords=10)\n",
    "\n",
    "# If there are results print the titles of them\n",
    "if response is not None:\n",
    "    # Show results\n",
    "    for rec in response.records:\n",
    "        print(rec.title)\n",
    "else:\n",
    "    print(\"There are no results found. Please try to work out your filters\")"
   ]
  }
 ],
 "metadata": {
  "kernelspec": {
   "display_name": "Python 3 (ipykernel)",
   "language": "python",
   "name": "python3"
  },
  "language_info": {
   "codemirror_mode": {
    "name": "ipython",
    "version": 3
   },
   "file_extension": ".py",
   "mimetype": "text/x-python",
   "name": "python",
   "nbconvert_exporter": "python",
   "pygments_lexer": "ipython3",
   "version": "3.11.6"
  },
  "vscode": {
   "interpreter": {
    "hash": "b8b300b7a3ff43d5a61f5cbfe8eff47befef07c4cfb5ff5f8c8ba01202962bfa"
   }
  }
 },
 "nbformat": 4,
 "nbformat_minor": 4
}
