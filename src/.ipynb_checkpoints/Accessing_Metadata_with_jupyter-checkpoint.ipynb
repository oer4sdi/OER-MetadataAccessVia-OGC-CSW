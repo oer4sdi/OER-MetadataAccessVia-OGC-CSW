{
 "cells": [
  {
   "cell_type": "markdown",
   "metadata": {},
   "source": [
    "# 4.3 Accessing metadata via Python from a Jupyter Notebook\n",
    "Now that we know how searching for metadata works through geoportals, we want to look a bit more behind the HTML interface. When you're filtering the datasets there are requests executed on the CSW in the background. The construction of the requests is always the same at CSWs. But before we can start let's quickly set up our all other components which we need. The OGC have an own Python library, called OWSLib, for client programming. This library allows the users to access and utilize geospatial data from their online services, like WMS or CSW, via Python. After installing the library you will also need to import the CSW class from OWSLib and some methods for later use. "
   ]
  },
  {
   "cell_type": "code",
   "execution_count": 2,
   "metadata": {},
   "outputs": [
    {
     "name": "stderr",
     "output_type": "stream",
     "text": [
      "\n",
      "[notice] A new release of pip is available: 23.0.1 -> 23.1.2\n",
      "[notice] To update, run: C:\\Users\\Tobias\\AppData\\Local\\Microsoft\\WindowsApps\\PythonSoftwareFoundation.Python.3.10_qbz5n2kfra8p0\\python.exe -m pip install --upgrade pip\n"
     ]
    },
    {
     "name": "stdout",
     "output_type": "stream",
     "text": [
      "Requirement already satisfied: OWSLib in c:\\users\\tobias\\appdata\\local\\packages\\pythonsoftwarefoundation.python.3.10_qbz5n2kfra8p0\\localcache\\local-packages\\python310\\site-packages (0.29.1)\n",
      "Requirement already satisfied: requests>=1.0 in c:\\users\\tobias\\appdata\\local\\packages\\pythonsoftwarefoundation.python.3.10_qbz5n2kfra8p0\\localcache\\local-packages\\python310\\site-packages (from OWSLib) (2.28.2)\n",
      "Requirement already satisfied: pytz in c:\\users\\tobias\\appdata\\local\\packages\\pythonsoftwarefoundation.python.3.10_qbz5n2kfra8p0\\localcache\\local-packages\\python310\\site-packages (from OWSLib) (2022.7.1)\n",
      "Requirement already satisfied: pyyaml in c:\\users\\tobias\\appdata\\local\\packages\\pythonsoftwarefoundation.python.3.10_qbz5n2kfra8p0\\localcache\\local-packages\\python310\\site-packages (from OWSLib) (6.0)\n",
      "Requirement already satisfied: lxml in c:\\users\\tobias\\appdata\\local\\packages\\pythonsoftwarefoundation.python.3.10_qbz5n2kfra8p0\\localcache\\local-packages\\python310\\site-packages (from OWSLib) (4.9.2)\n",
      "Requirement already satisfied: python-dateutil>=1.5 in c:\\users\\tobias\\appdata\\local\\packages\\pythonsoftwarefoundation.python.3.10_qbz5n2kfra8p0\\localcache\\local-packages\\python310\\site-packages (from OWSLib) (2.8.2)\n",
      "Requirement already satisfied: six>=1.5 in c:\\users\\tobias\\appdata\\local\\packages\\pythonsoftwarefoundation.python.3.10_qbz5n2kfra8p0\\localcache\\local-packages\\python310\\site-packages (from python-dateutil>=1.5->OWSLib) (1.16.0)\n",
      "Requirement already satisfied: idna<4,>=2.5 in c:\\users\\tobias\\appdata\\local\\packages\\pythonsoftwarefoundation.python.3.10_qbz5n2kfra8p0\\localcache\\local-packages\\python310\\site-packages (from requests>=1.0->OWSLib) (3.4)\n",
      "Requirement already satisfied: urllib3<1.27,>=1.21.1 in c:\\users\\tobias\\appdata\\local\\packages\\pythonsoftwarefoundation.python.3.10_qbz5n2kfra8p0\\localcache\\local-packages\\python310\\site-packages (from requests>=1.0->OWSLib) (1.26.14)\n",
      "Requirement already satisfied: charset-normalizer<4,>=2 in c:\\users\\tobias\\appdata\\local\\packages\\pythonsoftwarefoundation.python.3.10_qbz5n2kfra8p0\\localcache\\local-packages\\python310\\site-packages (from requests>=1.0->OWSLib) (3.0.1)\n",
      "Requirement already satisfied: certifi>=2017.4.17 in c:\\users\\tobias\\appdata\\local\\packages\\pythonsoftwarefoundation.python.3.10_qbz5n2kfra8p0\\localcache\\local-packages\\python310\\site-packages (from requests>=1.0->OWSLib) (2022.12.7)\n",
      "Note: you may need to restart the kernel to use updated packages.\n"
     ]
    }
   ],
   "source": [
    "%pip install OWSLib\n",
    "from owslib.csw import CatalogueServiceWeb\n",
    "from owslib.fes import PropertyIsEqualTo, BBox, PropertyIsLike\n"
   ]
  },
  {
   "cell_type": "markdown",
   "metadata": {},
   "source": [
    "Now we need the URL from the INSPIRE CSW. I've you search for the \"INSPIRE CSW\" in your browser, you should get the the catalogue service in one of the first links (https://inspire-geoportal.ec.europa.eu/GeoportalProxyWebServices/resources/OGCCSW202?request=GetCapabilities&service=CSW). It's the GetCapabilities request from the CSW. In the GetCapabilities you get all the metadata for the catalogue service.\n",
    "But to use the catalogue service from INSPIRE in the CSW class from OWSLib you only need the first part of the URL until the \"?\". With that and the function CatalogueServiceWeb(), we can create a connection to the CSW. "
   ]
  },
  {
   "cell_type": "code",
   "execution_count": 3,
   "metadata": {},
   "outputs": [],
   "source": [
    "CSW_URL = 'https://inspire-geoportal.ec.europa.eu/GeoportalProxyWebServices/resources/OGCCSW202'\n",
    "csw = CatalogueServiceWeb(CSW_URL)"
   ]
  },
  {
   "cell_type": "markdown",
   "metadata": {},
   "source": [
    "Let's first see which operations the INSPIRE CSW has."
   ]
  },
  {
   "cell_type": "code",
   "execution_count": 11,
   "metadata": {},
   "outputs": [
    {
     "data": {
      "text/plain": [
       "['GetCapabilities', 'DescribeRecord', 'GetRecords', 'GetRecordById']"
      ]
     },
     "execution_count": 11,
     "metadata": {},
     "output_type": "execute_result"
    }
   ],
   "source": [
    "[op.name for op in csw.operations]"
   ]
  },
  {
   "cell_type": "markdown",
   "metadata": {},
   "source": [
    "So we need the metadata about the GetRecords operation before we can search for a dataset. We want to know for what values we can search for."
   ]
  },
  {
   "cell_type": "code",
   "execution_count": 10,
   "metadata": {},
   "outputs": [
    {
     "name": "stdout",
     "output_type": "stream",
     "text": [
      "  IsoProfiles\n",
      "  PostEncoding\n"
     ]
    }
   ],
   "source": [
    "for constraint in csw.constraints:\n",
    "    print(f\"  {constraint}\")\n"
   ]
  },
  {
   "cell_type": "markdown",
   "metadata": {},
   "source": [
    "Now look at the SupportedISOQueryables and search for the values of the contraint. They are listed two times in GetRecords but we only want them listed one time to get an better oerview."
   ]
  },
  {
   "cell_type": "code",
   "execution_count": 12,
   "metadata": {},
   "outputs": [
    {
     "ename": "NameError",
     "evalue": "name 'op' is not defined",
     "output_type": "error",
     "traceback": [
      "\u001b[1;31m---------------------------------------------------------------------------\u001b[0m",
      "\u001b[1;31mNameError\u001b[0m                                 Traceback (most recent call last)",
      "Cell \u001b[1;32mIn[12], line 2\u001b[0m\n\u001b[0;32m      1\u001b[0m temp \u001b[39m=\u001b[39m \u001b[39m0\u001b[39m\n\u001b[1;32m----> 2\u001b[0m \u001b[39mfor\u001b[39;00m constraint \u001b[39min\u001b[39;00m op\u001b[39m.\u001b[39mconstraints:\n\u001b[0;32m      3\u001b[0m     \u001b[39mif\u001b[39;00m \u001b[39m'\u001b[39m\u001b[39mSupportedISOQueryables\u001b[39m\u001b[39m'\u001b[39m \u001b[39min\u001b[39;00m constraint\u001b[39m.\u001b[39mname \u001b[39mand\u001b[39;00m temp \u001b[39m==\u001b[39m \u001b[39m0\u001b[39m:\n\u001b[0;32m      4\u001b[0m         temp \u001b[39m+\u001b[39m\u001b[39m=\u001b[39m \u001b[39m1\u001b[39m\n",
      "\u001b[1;31mNameError\u001b[0m: name 'op' is not defined"
     ]
    }
   ],
   "source": [
    "temp = 0\n",
    "for constraint in op.constraints:\n",
    "    if 'SupportedISOQueryables' in constraint.name and temp == 0:\n",
    "        temp += 1\n",
    "        print(constraint.values)"
   ]
  },
  {
   "cell_type": "markdown",
   "metadata": {},
   "source": [
    "There are quite a few values which we can use. But not all are very helpful for us."
   ]
  },
  {
   "cell_type": "code",
   "execution_count": 32,
   "metadata": {},
   "outputs": [
    {
     "name": "stdout",
     "output_type": "stream",
     "text": [
      "Keine Ergebnisse gefunden.\n"
     ]
    }
   ],
   "source": [
    "response = csw.getrecords2([PropertyIsEqualTo('csw:AnyText', 'Hannover')])\n",
    "if response is not None:\n",
    "    # Ergebnisse auswerten\n",
    "    for rec in response.records:\n",
    "        print(rec.title)\n",
    "else:\n",
    "    print(\"Keine Ergebnisse gefunden.\")"
   ]
  },
  {
   "cell_type": "code",
   "execution_count": 79,
   "metadata": {},
   "outputs": [
    {
     "name": "stdout",
     "output_type": "stream",
     "text": [
      "Keine Ergebnisse gefunden.\n"
     ]
    }
   ],
   "source": [
    "# Suchkriterien definieren\n",
    "suchtext = \"Hannover\"\n",
    "suchattribut = \"Title\"\n",
    "\n",
    "# Filter erstellen\n",
    "filter = PropertyIsLike(propertyname=suchattribut, literal=f\"*{suchtext}*\", escapeChar=\"\\\\\", wildCard=\"*\")\n",
    "\n",
    "# GetRecords-Anfrage mit Filter durchführen\n",
    "response = csw.getrecords2(constraints=[filter], maxrecords=10)\n",
    "\n",
    "# Überprüfen, ob Ergebnisse vorhanden sind\n",
    "if response is not None:\n",
    "    # Ergebnisse auswerten\n",
    "    for rec in response.records:\n",
    "        print(rec.title)\n",
    "else:\n",
    "    print(\"Keine Ergebnisse gefunden.\")"
   ]
  },
  {
   "cell_type": "code",
   "execution_count": 21,
   "metadata": {},
   "outputs": [
    {
     "name": "stdout",
     "output_type": "stream",
     "text": [
      "<owslib.catalogue.csw2.CatalogueServiceWeb object at 0x00000270A451CBB0>\n",
      "<owslib.catalogue.csw2.CatalogueServiceWeb object at 0x00000270A451CBB0>\n",
      "<owslib.catalogue.csw2.CatalogueServiceWeb object at 0x00000270A451CBB0>\n"
     ]
    }
   ],
   "source": [
    "bbox_query = BBox([52.244094, 9.212036, 52.574420, 10.318909])\n",
    "csw.getrecords2(constraints=[bbox_query])\n",
    "csw.results\n",
    "\n",
    "for rec in csw.results:\n",
    "    print(csw)"
   ]
  },
  {
   "cell_type": "code",
   "execution_count": 15,
   "metadata": {},
   "outputs": [
    {
     "name": "stdout",
     "output_type": "stream",
     "text": [
      "None\n"
     ]
    }
   ],
   "source": [
    "print(csw.getrecords2(constraints=[PropertyIsEqualTo('dc:identifier', '412966c0-a49f-40d2-8419-d7eca338da0f')], maxrecords=1))"
   ]
  },
  {
   "cell_type": "code",
   "execution_count": 22,
   "metadata": {},
   "outputs": [
    {
     "ename": "KeyError",
     "evalue": "0",
     "output_type": "error",
     "traceback": [
      "\u001b[1;31m---------------------------------------------------------------------------\u001b[0m",
      "\u001b[1;31mKeyError\u001b[0m                                  Traceback (most recent call last)",
      "Cell \u001b[1;32mIn[22], line 1\u001b[0m\n\u001b[1;32m----> 1\u001b[0m rec \u001b[39m=\u001b[39m csw\u001b[39m.\u001b[39;49mrecords[\u001b[39m0\u001b[39;49m]\n\u001b[0;32m      2\u001b[0m \u001b[39mprint\u001b[39m(rec\u001b[39m.\u001b[39mtitle)\n\u001b[0;32m      3\u001b[0m \u001b[39mprint\u001b[39m(rec\u001b[39m.\u001b[39mreferences)\n",
      "\u001b[1;31mKeyError\u001b[0m: 0"
     ]
    }
   ],
   "source": [
    "rec = csw.records[0]\n",
    "print(rec.title)\n",
    "print(rec.references)"
   ]
  },
  {
   "cell_type": "code",
   "execution_count": 23,
   "metadata": {},
   "outputs": [
    {
     "ename": "AttributeError",
     "evalue": "'CatalogueServiceWeb' object has no attribute 'getcapabilities'",
     "output_type": "error",
     "traceback": [
      "\u001b[1;31m---------------------------------------------------------------------------\u001b[0m",
      "\u001b[1;31mAttributeError\u001b[0m                            Traceback (most recent call last)",
      "Cell \u001b[1;32mIn[23], line 1\u001b[0m\n\u001b[1;32m----> 1\u001b[0m caps \u001b[39m=\u001b[39m csw\u001b[39m.\u001b[39;49mgetcapabilities()\n\u001b[0;32m      3\u001b[0m \u001b[39m# verfügbare Suchkriterien ausgeben\u001b[39;00m\n\u001b[0;32m      4\u001b[0m \u001b[39mfor\u001b[39;00m op \u001b[39min\u001b[39;00m csw\u001b[39m.\u001b[39moperations:\n",
      "\u001b[1;31mAttributeError\u001b[0m: 'CatalogueServiceWeb' object has no attribute 'getcapabilities'"
     ]
    }
   ],
   "source": [
    "caps = csw.getcapabilities()\n",
    "\n",
    "# verfügbare Suchkriterien ausgeben\n",
    "for op in csw.operations:\n",
    "    if 'GetRecords' in op.name:\n",
    "        print(f\"\\nSearch criteria for {op.name}:\")\n",
    "        for constraint in op.constraints:\n",
    "            print(f\"  {constraint.name}\")"
   ]
  },
  {
   "cell_type": "code",
   "execution_count": 36,
   "metadata": {},
   "outputs": [
    {
     "name": "stdout",
     "output_type": "stream",
     "text": [
      "{'matches': 250203, 'returned': 10, 'nextrecord': 11}\n"
     ]
    }
   ],
   "source": [
    "csw.getrecords2()\n",
    "print(csw.results)"
   ]
  },
  {
   "cell_type": "code",
   "execution_count": 52,
   "metadata": {},
   "outputs": [
    {
     "data": {
      "text/plain": [
       "{'matches': 35, 'returned': 10, 'nextrecord': 11}"
      ]
     },
     "execution_count": 52,
     "metadata": {},
     "output_type": "execute_result"
    }
   ],
   "source": [
    "hannover_query = PropertyIsLike('csw:title', '%Hannover%')\n",
    "csw.getrecords2(constraints=[hannover_query])\n",
    "csw.results"
   ]
  },
  {
   "cell_type": "code",
   "execution_count": 63,
   "metadata": {},
   "outputs": [],
   "source": [
    "for recid in csw.records:\n",
    "    record = csw.records[recid]\n",
    "    print(record.title)"
   ]
  }
 ],
 "metadata": {
  "kernelspec": {
   "display_name": "Python 3 (ipykernel)",
   "language": "python",
   "name": "python3"
  },
  "language_info": {
   "codemirror_mode": {
    "name": "ipython",
    "version": 3
   },
   "file_extension": ".py",
   "mimetype": "text/x-python",
   "name": "python",
   "nbconvert_exporter": "python",
   "pygments_lexer": "ipython3",
   "version": "3.10.10"
  },
  "vscode": {
   "interpreter": {
    "hash": "b8b300b7a3ff43d5a61f5cbfe8eff47befef07c4cfb5ff5f8c8ba01202962bfa"
   }
  }
 },
 "nbformat": 4,
 "nbformat_minor": 2
}
