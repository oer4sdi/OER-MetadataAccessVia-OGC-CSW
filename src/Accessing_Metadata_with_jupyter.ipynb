{
 "cells": [
  {
   "attachments": {},
   "cell_type": "markdown",
   "metadata": {},
   "source": [
    "# 4.3 Accessing metadata via Python from a Jupyter Notebook\n",
    "Now that we know how searching for metadata works through geoportals, we want to look a bit more behind the HTML interface. When you're filtering the datasets there are requests executed on the CSW in the background. The construction of the requests is always the same at CSWs. But before we can start let's quickly set up our all other components which we need. The OGC have an own Python library, called OWSLib, for client programming. This library allows the users to access and utilize geospatial data from their online services, like WMS or CSW, via Python. After installing the library you will also need to import the CSW class from OWSLib and some methods for later use. "
   ]
  },
  {
   "cell_type": "code",
   "execution_count": 1,
   "metadata": {},
   "outputs": [
    {
     "name": "stderr",
     "output_type": "stream",
     "text": [
      "\n",
      "[notice] A new release of pip is available: 23.0.1 -> 23.1.2\n",
      "[notice] To update, run: C:\\Users\\Tobias\\AppData\\Local\\Microsoft\\WindowsApps\\PythonSoftwareFoundation.Python.3.10_qbz5n2kfra8p0\\python.exe -m pip install --upgrade pip\n"
     ]
    },
    {
     "name": "stdout",
     "output_type": "stream",
     "text": [
      "Requirement already satisfied: OWSLib in c:\\users\\tobias\\appdata\\local\\packages\\pythonsoftwarefoundation.python.3.10_qbz5n2kfra8p0\\localcache\\local-packages\\python310\\site-packages (0.29.1)\n",
      "Requirement already satisfied: requests>=1.0 in c:\\users\\tobias\\appdata\\local\\packages\\pythonsoftwarefoundation.python.3.10_qbz5n2kfra8p0\\localcache\\local-packages\\python310\\site-packages (from OWSLib) (2.28.2)\n",
      "Requirement already satisfied: lxml in c:\\users\\tobias\\appdata\\local\\packages\\pythonsoftwarefoundation.python.3.10_qbz5n2kfra8p0\\localcache\\local-packages\\python310\\site-packages (from OWSLib) (4.9.2)\n",
      "Requirement already satisfied: pyyaml in c:\\users\\tobias\\appdata\\local\\packages\\pythonsoftwarefoundation.python.3.10_qbz5n2kfra8p0\\localcache\\local-packages\\python310\\site-packages (from OWSLib) (6.0)\n",
      "Requirement already satisfied: python-dateutil>=1.5 in c:\\users\\tobias\\appdata\\local\\packages\\pythonsoftwarefoundation.python.3.10_qbz5n2kfra8p0\\localcache\\local-packages\\python310\\site-packages (from OWSLib) (2.8.2)\n",
      "Requirement already satisfied: pytz in c:\\users\\tobias\\appdata\\local\\packages\\pythonsoftwarefoundation.python.3.10_qbz5n2kfra8p0\\localcache\\local-packages\\python310\\site-packages (from OWSLib) (2022.7.1)\n",
      "Requirement already satisfied: six>=1.5 in c:\\users\\tobias\\appdata\\local\\packages\\pythonsoftwarefoundation.python.3.10_qbz5n2kfra8p0\\localcache\\local-packages\\python310\\site-packages (from python-dateutil>=1.5->OWSLib) (1.16.0)\n",
      "Requirement already satisfied: urllib3<1.27,>=1.21.1 in c:\\users\\tobias\\appdata\\local\\packages\\pythonsoftwarefoundation.python.3.10_qbz5n2kfra8p0\\localcache\\local-packages\\python310\\site-packages (from requests>=1.0->OWSLib) (1.26.14)\n",
      "Requirement already satisfied: idna<4,>=2.5 in c:\\users\\tobias\\appdata\\local\\packages\\pythonsoftwarefoundation.python.3.10_qbz5n2kfra8p0\\localcache\\local-packages\\python310\\site-packages (from requests>=1.0->OWSLib) (3.4)\n",
      "Requirement already satisfied: certifi>=2017.4.17 in c:\\users\\tobias\\appdata\\local\\packages\\pythonsoftwarefoundation.python.3.10_qbz5n2kfra8p0\\localcache\\local-packages\\python310\\site-packages (from requests>=1.0->OWSLib) (2022.12.7)\n",
      "Requirement already satisfied: charset-normalizer<4,>=2 in c:\\users\\tobias\\appdata\\local\\packages\\pythonsoftwarefoundation.python.3.10_qbz5n2kfra8p0\\localcache\\local-packages\\python310\\site-packages (from requests>=1.0->OWSLib) (3.0.1)\n",
      "Note: you may need to restart the kernel to use updated packages.\n"
     ]
    }
   ],
   "source": [
    "%pip install OWSLib\n",
    "from owslib.csw import CatalogueServiceWeb\n",
    "from owslib.fes import PropertyIsEqualTo, BBox, PropertyIsLike\n"
   ]
  },
  {
   "attachments": {},
   "cell_type": "markdown",
   "metadata": {},
   "source": [
    "Now we need the URL from the INSPIRE CSW. I've you search for the \"geodatenkatalog csw\" in your browser, you should get the the catalogue service in one of the first links (https://gdk.gdi-de.org/gdi-de/srv/ger/csw?service=CSW&version=2.0.2&REQUEST=GetCapabilities&SERVICE=CSW). It's the GetCapabilities request from the CSW. In the GetCapabilities you get all the metadata for the catalogue service.\n",
    "But to use the catalogue service from INSPIRE in the CSW class from OWSLib you only need the first part of the URL until the \"?\". With that and the function CatalogueServiceWeb(), we can after that create a connection to the CSW. "
   ]
  },
  {
   "cell_type": "code",
   "execution_count": 2,
   "metadata": {},
   "outputs": [],
   "source": [
    "CSW_URL = 'https://gdk.gdi-de.org/gdi-de/srv/ger/csw'\n",
    "csw = CatalogueServiceWeb(CSW_URL)"
   ]
  },
  {
   "attachments": {},
   "cell_type": "markdown",
   "metadata": {},
   "source": [
    "Let's first see which operations the CSW has. With these methods you can work with the CSW. There are some methods every Catalogue Service should have:\n",
    "1. GetCapabilites(): This operation allows retrieving the available functions and properties of the CSW, including supported operations and data schema.\n",
    "\n",
    "2. DescribeRecord(): This operation allows retrieving information about the available metadata records, including the metadata schema and supported metadata elements. \n",
    "\n",
    "3. GetRecords(): This operation enables retrieving metadata records based on specific criteria such as keywords, spatial extents, or time intervals.\n",
    "\n",
    "4. GetRecordById(): This operation allows retrieving metadata records by their unique identification number. \n",
    "\n",
    "5. Transaction(): This operation supports adding, updating, or deleting metadata records in the CSW."
   ]
  },
  {
   "cell_type": "code",
   "execution_count": 16,
   "metadata": {},
   "outputs": [
    {
     "name": "stdout",
     "output_type": "stream",
     "text": [
      "['GetCapabilities', 'DescribeRecord', 'GetDomain', 'GetRecords', 'GetRecordById', 'Transaction', 'Harvest']\n"
     ]
    }
   ],
   "source": [
    "op = [op.name for op in csw.operations]\n",
    "print(op)"
   ]
  },
  {
   "attachments": {},
   "cell_type": "markdown",
   "metadata": {},
   "source": [
    "The GetRecords() operation from the CSW is implemented through the getrecords2() method from the OWSLib library. In the method you can give \"constraints\" to filter through the CSW. With the argument maxrecords you can set the number of the first records that will be returned (The default would be 10). \n",
    "There are some methods like PropertyIsLike() or PropertyIsEqualTo() to make filters. There you can insert an string with the information, which element should be searched for, and a string with the keyword you want to search for. As Elements you can use for example:\n",
    "- csw:Title: which search for a specific title\n",
    "- csw:AnyText: which finds all records which contain the specific given string anywhere.\n",
    "\n",
    "After that you can get the results with the results method from the OWSLib library.\n"
   ]
  },
  {
   "cell_type": "code",
   "execution_count": 27,
   "metadata": {},
   "outputs": [
    {
     "data": {
      "text/plain": [
       "{'matches': 94, 'returned': 20, 'nextrecord': 21}"
      ]
     },
     "execution_count": 27,
     "metadata": {},
     "output_type": "execute_result"
    }
   ],
   "source": [
    "NSG_filter = PropertyIsLike('csw:Title', '%Naturschutzgebiete%')\n",
    "csw.getrecords2(constraints=[NSG_filter], maxrecords=20)\n",
    "csw.results"
   ]
  },
  {
   "attachments": {},
   "cell_type": "markdown",
   "metadata": {},
   "source": [
    "To output your for example the titles of your results you can make a for loop and print the records."
   ]
  },
  {
   "cell_type": "code",
   "execution_count": 9,
   "metadata": {},
   "outputs": [
    {
     "name": "stdout",
     "output_type": "stream",
     "text": [
      "Naturschutzgebiete in Freiburg i. Br.\n",
      "Waldfunktionen in Sachsen - Naturschutzgebiete nach Sächsischem Naturschutzgesetz\n",
      "Naturschutzgebiete Landkreis Mittelsachsen\n",
      "Naturschutzgebiete Landkreis Diepholz\n",
      "Naturschutzgebiete Wuppertal\n",
      "Kartenlayer Naturschutzgebiete NRW\n",
      "Naturschutzgebiete der Stadt Göttingen\n",
      "Wuppertal ATOM Feed Naturschutzgebiete\n",
      "Naturschutzgebiete Vogtlandkreis\n",
      "Naturschutzgebiete (Landkreis Holzminden)\n",
      "Naturschutzgebiete im Landkreis Oldenburg\n",
      "Naturschutzgebiete (Landkreis Osterholz)\n",
      "Naturschutzgebiete im Landkreis Ammerland\n",
      "Naturschutzgebiete im Landkreis Verden\n",
      "Naturschutzgebiete im Landkreis Aurich\n",
      "Naturschutzgebiete (Landkreis Hameln-Pyrmont)\n",
      "Naturschutzgebiete (Landkreis Leer)\n",
      "Naturschutzgebiete im Landkreis Northeim\n",
      "Naturschutzgebiete Landkreis Lüneburg\n",
      "Naturschutzgebiete (Landkreis Hildesheim)\n"
     ]
    }
   ],
   "source": [
    "for rec in csw.records:\n",
    "    print(csw.records[rec].title)"
   ]
  },
  {
   "attachments": {},
   "cell_type": "markdown",
   "metadata": {},
   "source": [
    "You can also try to filter with BBox() and that will make it possible filter for datasets in a specific area. The method will use an array with latitudes and longitudes therefor you need two points [latMin, longMin, latMax, longMax]. "
   ]
  },
  {
   "cell_type": "code",
   "execution_count": 10,
   "metadata": {},
   "outputs": [
    {
     "data": {
      "text/plain": [
       "{'matches': 3011, 'returned': 10, 'nextrecord': 11}"
      ]
     },
     "execution_count": 10,
     "metadata": {},
     "output_type": "execute_result"
    }
   ],
   "source": [
    "bbox_query = BBox([52.839976, 7.474823, 53.098018, 7.911530])\n",
    "csw.getrecords2(constraints=[bbox_query])\n",
    "csw.results"
   ]
  },
  {
   "attachments": {},
   "cell_type": "markdown",
   "metadata": {},
   "source": [
    "If you already know the identifier of our wanted dataset you can also search for that aswell with the getrecordbyid() method. It represents the GetRecordsByID operation from the CSW."
   ]
  },
  {
   "cell_type": "code",
   "execution_count": 11,
   "metadata": {},
   "outputs": [
    {
     "data": {
      "text/plain": [
       "'Naturschutzgebiete (NSG)'"
      ]
     },
     "execution_count": 11,
     "metadata": {},
     "output_type": "execute_result"
    }
   ],
   "source": [
    "csw.getrecordbyid(id=['EE85FE8F-BD05-4A6D-813B-6ABC4514B18B'])\n",
    "csw.records['EE85FE8F-BD05-4A6D-813B-6ABC4514B18B'].title\n"
   ]
  },
  {
   "attachments": {},
   "cell_type": "markdown",
   "metadata": {},
   "source": [
    "So now that you know how to search in an CSW with OWSLib try to find the dataset that we have found in the last excercise in the geoportal aswell with the mtheod getrecords2()."
   ]
  },
  {
   "cell_type": "code",
   "execution_count": null,
   "metadata": {},
   "outputs": [],
   "source": [
    "# define filters\n",
    "\n",
    "\n",
    "# GetRecords() method\n",
    "response = csw.getrecords2(constraints=[filter], maxrecords=10)\n",
    "\n",
    "# If there are results print the titles of them\n",
    "if response is not None:\n",
    "    # Ergebnisse auswerten\n",
    "    for rec in response.records:\n",
    "        print(rec.title)\n",
    "else:\n",
    "    print(\"There are no results found. Please try to work out your filters\")"
   ]
  },
  {
   "attachments": {},
   "cell_type": "markdown",
   "metadata": {},
   "source": [
    "-------\n",
    "## Testing  \n",
    "\n",
    "-------\n"
   ]
  },
  {
   "cell_type": "code",
   "execution_count": 12,
   "metadata": {},
   "outputs": [
    {
     "name": "stdout",
     "output_type": "stream",
     "text": [
      "{'matches': 600007, 'returned': 10, 'nextrecord': 11}\n"
     ]
    }
   ],
   "source": [
    "csw.getrecords2()\n",
    "print(csw.results)"
   ]
  },
  {
   "cell_type": "code",
   "execution_count": null,
   "metadata": {},
   "outputs": [],
   "source": [
    "caps = csw.getcapabilities()\n",
    "\n",
    "# verfügbare Suchkriterien ausgeben\n",
    "for op in csw.operations:\n",
    "    if 'GetRecords' in op.name:\n",
    "        print(f\"\\nSearch criteria for {op.name}:\")\n",
    "        for constraint in op.constraints:\n",
    "            print(f\"  {constraint.name}\")"
   ]
  }
 ],
 "metadata": {
  "kernelspec": {
   "display_name": "Python 3 (ipykernel)",
   "language": "python",
   "name": "python3"
  },
  "language_info": {
   "codemirror_mode": {
    "name": "ipython",
    "version": 3
   },
   "file_extension": ".py",
   "mimetype": "text/x-python",
   "name": "python",
   "nbconvert_exporter": "python",
   "pygments_lexer": "ipython3",
   "version": "3.10.11"
  },
  "vscode": {
   "interpreter": {
    "hash": "b8b300b7a3ff43d5a61f5cbfe8eff47befef07c4cfb5ff5f8c8ba01202962bfa"
   }
  }
 },
 "nbformat": 4,
 "nbformat_minor": 2
}
