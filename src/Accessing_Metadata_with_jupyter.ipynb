{
 "cells": [
  {
   "attachments": {},
   "cell_type": "markdown",
   "metadata": {},
   "source": [
    "# 4.3 Accessing metadata via Python from a Jupyter Notebook\n",
    "Now that we know how searching for metadata works through geoportals, we want to look a bit more behind the HTML interface. When you're filtering the datasets there are requests executed on the CSW in the background. The construction of the requests is always the same at CSWs. But before we can start let's quickly set up our all other components which we need. The OGC have an own Python library, called OWSLib, for client programming. This library allows the users to access and utilize geospatial data from their online services, like WMS or CSW, via Python. After installing the library you will also need to import the CSW class from OWSLib and some methods for later use. "
   ]
  },
  {
   "cell_type": "code",
   "execution_count": 1,
   "metadata": {},
   "outputs": [
    {
     "name": "stdout",
     "output_type": "stream",
     "text": [
      "Requirement already satisfied: OWSLib in c:\\users\\tobias\\appdata\\local\\packages\\pythonsoftwarefoundation.python.3.10_qbz5n2kfra8p0\\localcache\\local-packages\\python310\\site-packages (0.29.1)\n",
      "Requirement already satisfied: requests>=1.0 in c:\\users\\tobias\\appdata\\local\\packages\\pythonsoftwarefoundation.python.3.10_qbz5n2kfra8p0\\localcache\\local-packages\\python310\\site-packages (from OWSLib) (2.28.2)\n",
      "Requirement already satisfied: pytz in c:\\users\\tobias\\appdata\\local\\packages\\pythonsoftwarefoundation.python.3.10_qbz5n2kfra8p0\\localcache\\local-packages\\python310\\site-packages (from OWSLib) (2022.7.1)\n",
      "Requirement already satisfied: pyyaml in c:\\users\\tobias\\appdata\\local\\packages\\pythonsoftwarefoundation.python.3.10_qbz5n2kfra8p0\\localcache\\local-packages\\python310\\site-packages (from OWSLib) (6.0)\n",
      "Requirement already satisfied: lxml in c:\\users\\tobias\\appdata\\local\\packages\\pythonsoftwarefoundation.python.3.10_qbz5n2kfra8p0\\localcache\\local-packages\\python310\\site-packages (from OWSLib) (4.9.2)\n",
      "Requirement already satisfied: python-dateutil>=1.5 in c:\\users\\tobias\\appdata\\local\\packages\\pythonsoftwarefoundation.python.3.10_qbz5n2kfra8p0\\localcache\\local-packages\\python310\\site-packages (from OWSLib) (2.8.2)\n",
      "Requirement already satisfied: six>=1.5 in c:\\users\\tobias\\appdata\\local\\packages\\pythonsoftwarefoundation.python.3.10_qbz5n2kfra8p0\\localcache\\local-packages\\python310\\site-packages (from python-dateutil>=1.5->OWSLib) (1.16.0)\n",
      "Requirement already satisfied: charset-normalizer<4,>=2 in c:\\users\\tobias\\appdata\\local\\packages\\pythonsoftwarefoundation.python.3.10_qbz5n2kfra8p0\\localcache\\local-packages\\python310\\site-packages (from requests>=1.0->OWSLib) (3.0.1)\n",
      "Requirement already satisfied: idna<4,>=2.5 in c:\\users\\tobias\\appdata\\local\\packages\\pythonsoftwarefoundation.python.3.10_qbz5n2kfra8p0\\localcache\\local-packages\\python310\\site-packages (from requests>=1.0->OWSLib) (3.4)\n",
      "Requirement already satisfied: certifi>=2017.4.17 in c:\\users\\tobias\\appdata\\local\\packages\\pythonsoftwarefoundation.python.3.10_qbz5n2kfra8p0\\localcache\\local-packages\\python310\\site-packages (from requests>=1.0->OWSLib) (2022.12.7)\n",
      "Requirement already satisfied: urllib3<1.27,>=1.21.1 in c:\\users\\tobias\\appdata\\local\\packages\\pythonsoftwarefoundation.python.3.10_qbz5n2kfra8p0\\localcache\\local-packages\\python310\\site-packages (from requests>=1.0->OWSLib) (1.26.14)\n",
      "Note: you may need to restart the kernel to use updated packages.\n"
     ]
    },
    {
     "name": "stderr",
     "output_type": "stream",
     "text": [
      "\n",
      "[notice] A new release of pip is available: 23.0.1 -> 23.1.2\n",
      "[notice] To update, run: C:\\Users\\Tobias\\AppData\\Local\\Microsoft\\WindowsApps\\PythonSoftwareFoundation.Python.3.10_qbz5n2kfra8p0\\python.exe -m pip install --upgrade pip\n"
     ]
    }
   ],
   "source": [
    "%pip install OWSLib\n",
    "from owslib.csw import CatalogueServiceWeb\n",
    "from owslib.fes import PropertyIsEqualTo, BBox, PropertyIsLike\n"
   ]
  },
  {
   "attachments": {},
   "cell_type": "markdown",
   "metadata": {},
   "source": [
    "Now we need the URL from the INSPIRE CSW. I've you search for the \"INSPIRE CSW\" in your browser, you should get the the catalogue service in one of the first links (https://inspire-geoportal.ec.europa.eu/GeoportalProxyWebServices/resources/OGCCSW202?request=GetCapabilities&service=CSW). It's the GetCapabilities request from the CSW. In the GetCapabilities you get all the metadata for the catalogue service.\n",
    "But to use the catalogue service from INSPIRE in the CSW class from OWSLib you only need the first part of the URL until the \"?\". With that and the function CatalogueServiceWeb(), we can create a connection to the CSW. "
   ]
  },
  {
   "cell_type": "code",
   "execution_count": 26,
   "metadata": {},
   "outputs": [],
   "source": [
    "CSW_URL = 'https://inspire-geoportal.ec.europa.eu/GeoportalProxyWebServices/resources/OGCCSW202'\n",
    "csw = CatalogueServiceWeb(CSW_URL)"
   ]
  },
  {
   "attachments": {},
   "cell_type": "markdown",
   "metadata": {},
   "source": [
    "Let's first see which operations the INSPIRE CSW has."
   ]
  },
  {
   "cell_type": "code",
   "execution_count": null,
   "metadata": {},
   "outputs": [],
   "source": [
    "[op.name for op in csw.operations]"
   ]
  },
  {
   "attachments": {},
   "cell_type": "markdown",
   "metadata": {},
   "source": [
    "So we need the metadata about the GetRecords operation before we can search for a dataset. We want to know for what values we can search for."
   ]
  },
  {
   "cell_type": "code",
   "execution_count": null,
   "metadata": {},
   "outputs": [],
   "source": [
    "for constraint in csw.constraints:\n",
    "    print(f\"  {constraint}\")\n"
   ]
  },
  {
   "attachments": {},
   "cell_type": "markdown",
   "metadata": {},
   "source": [
    "Now look at the SupportedISOQueryables and search for the values of the contraint. They are listed two times in GetRecords but we only want them listed one time to get an better oerview."
   ]
  },
  {
   "cell_type": "code",
   "execution_count": null,
   "metadata": {},
   "outputs": [],
   "source": [
    "temp = 0\n",
    "for constraint in op.constraints:\n",
    "    if 'SupportedISOQueryables' in constraint.name and temp == 0:\n",
    "        temp += 1\n",
    "        print(constraint.values)"
   ]
  },
  {
   "attachments": {},
   "cell_type": "markdown",
   "metadata": {},
   "source": [
    "There are quite a few values which we can use. But not all are very helpful for us."
   ]
  },
  {
   "cell_type": "code",
   "execution_count": 29,
   "metadata": {},
   "outputs": [
    {
     "data": {
      "text/plain": [
       "{'matches': 35, 'returned': 10, 'nextrecord': 11}"
      ]
     },
     "execution_count": 29,
     "metadata": {},
     "output_type": "execute_result"
    }
   ],
   "source": [
    "hannover_query = PropertyIsLike('csw:title', '%Hannover%')\n",
    "csw.getrecords2(constraints=[hannover_query])\n",
    "csw.results"
   ]
  },
  {
   "attachments": {},
   "cell_type": "markdown",
   "metadata": {},
   "source": [
    "To output your for example the titles of your results you can make a for loop and print the records."
   ]
  },
  {
   "cell_type": "code",
   "execution_count": 31,
   "metadata": {},
   "outputs": [],
   "source": [
    "for rec in csw.records:\n",
    "    print(csw.records[rec].title)"
   ]
  },
  {
   "attachments": {},
   "cell_type": "markdown",
   "metadata": {},
   "source": [
    "You can also try to filter with BBox() and that will make it possible filter for datasets in a specific area."
   ]
  },
  {
   "cell_type": "code",
   "execution_count": 27,
   "metadata": {},
   "outputs": [
    {
     "data": {
      "text/plain": [
       "{'matches': 385, 'returned': 10, 'nextrecord': 11}"
      ]
     },
     "execution_count": 27,
     "metadata": {},
     "output_type": "execute_result"
    }
   ],
   "source": [
    "bbox_query = BBox([52.244094, 9.212036, 52.574420, 10.318909])\n",
    "csw.getrecords2(constraints=[bbox_query])\n",
    "csw.results"
   ]
  },
  {
   "attachments": {},
   "cell_type": "markdown",
   "metadata": {},
   "source": [
    "If you know the identifier of our wanted dataset you can also search for that."
   ]
  },
  {
   "cell_type": "code",
   "execution_count": 28,
   "metadata": {},
   "outputs": [
    {
     "ename": "KeyError",
     "evalue": "'412966c0-a49f-40d2-8419-d7eca338da0f'",
     "output_type": "error",
     "traceback": [
      "\u001b[1;31m---------------------------------------------------------------------------\u001b[0m",
      "\u001b[1;31mKeyError\u001b[0m                                  Traceback (most recent call last)",
      "Cell \u001b[1;32mIn[28], line 3\u001b[0m\n\u001b[0;32m      1\u001b[0m \u001b[39m#print(csw.getrecords2(constraints=[PropertyIsEqualTo('dc:identifier', '412966c0-a49f-40d2-8419-d7eca338da0f')], maxrecords=1))\u001b[39;00m\n\u001b[0;32m      2\u001b[0m csw\u001b[39m.\u001b[39mgetrecordbyid(\u001b[39mid\u001b[39m\u001b[39m=\u001b[39m[\u001b[39m'\u001b[39m\u001b[39m412966c0-a49f-40d2-8419-d7eca338da0f\u001b[39m\u001b[39m'\u001b[39m])\n\u001b[1;32m----> 3\u001b[0m csw\u001b[39m.\u001b[39;49mrecords[\u001b[39m'\u001b[39;49m\u001b[39m412966c0-a49f-40d2-8419-d7eca338da0f\u001b[39;49m\u001b[39m'\u001b[39;49m]\u001b[39m.\u001b[39mtitle\n",
      "\u001b[1;31mKeyError\u001b[0m: '412966c0-a49f-40d2-8419-d7eca338da0f'"
     ]
    }
   ],
   "source": [
    "#print(csw.getrecords2(constraints=[PropertyIsEqualTo('dc:identifier', '412966c0-a49f-40d2-8419-d7eca338da0f')], maxrecords=1))\n",
    "csw.getrecordbyid(id=['412966c0-a49f-40d2-8419-d7eca338da0f'])\n",
    "csw.records['412966c0-a49f-40d2-8419-d7eca338da0f'].title\n"
   ]
  },
  {
   "cell_type": "code",
   "execution_count": null,
   "metadata": {},
   "outputs": [],
   "source": [
    "# Suchkriterien definieren\n",
    "suchtext = \"Hannover\"\n",
    "suchattribut = \"Title\"\n",
    "\n",
    "# Filter erstellen\n",
    "filter = PropertyIsLike(propertyname=suchattribut, literal=f\"*{suchtext}*\", escapeChar=\"\\\\\", wildCard=\"*\")\n",
    "\n",
    "# GetRecords-Anfrage mit Filter durchführen\n",
    "response = csw.getrecords2(constraints=[filter], maxrecords=10)\n",
    "\n",
    "# Überprüfen, ob Ergebnisse vorhanden sind\n",
    "if response is not None:\n",
    "    # Ergebnisse auswerten\n",
    "    for rec in response.records:\n",
    "        print(rec.title)\n",
    "else:\n",
    "    print(\"Keine Ergebnisse gefunden.\")"
   ]
  },
  {
   "cell_type": "code",
   "execution_count": null,
   "metadata": {},
   "outputs": [],
   "source": [
    "rec = csw.records[0]\n",
    "print(rec.title)\n",
    "print(rec.references)"
   ]
  },
  {
   "cell_type": "code",
   "execution_count": null,
   "metadata": {},
   "outputs": [],
   "source": [
    "caps = csw.getcapabilities()\n",
    "\n",
    "# verfügbare Suchkriterien ausgeben\n",
    "for op in csw.operations:\n",
    "    if 'GetRecords' in op.name:\n",
    "        print(f\"\\nSearch criteria for {op.name}:\")\n",
    "        for constraint in op.constraints:\n",
    "            print(f\"  {constraint.name}\")"
   ]
  },
  {
   "cell_type": "code",
   "execution_count": null,
   "metadata": {},
   "outputs": [],
   "source": [
    "csw.getrecords2()\n",
    "print(csw.results)"
   ]
  },
  {
   "cell_type": "code",
   "execution_count": 3,
   "metadata": {},
   "outputs": [
    {
     "data": {
      "text/plain": [
       "{'matches': 35, 'returned': 10, 'nextrecord': 11}"
      ]
     },
     "execution_count": 3,
     "metadata": {},
     "output_type": "execute_result"
    }
   ],
   "source": [
    "hannover_query = PropertyIsLike('csw:title', '%Hannover%')\n",
    "csw.getrecords2(constraints=[hannover_query])\n",
    "csw.results"
   ]
  },
  {
   "cell_type": "code",
   "execution_count": 4,
   "metadata": {},
   "outputs": [],
   "source": [
    "for recid in csw.records:\n",
    "    record = csw.records[recid]\n",
    "    print(record.title)"
   ]
  },
  {
   "attachments": {},
   "cell_type": "markdown",
   "metadata": {},
   "source": [
    "-------\n",
    "Test documantation   \n",
    "\n",
    "csw2 = CatalogueServiceWeb('https://gdk.gdi-de.org/gdi-de/srv/ger/csw')   \n",
    "    \n",
    "hannover_query = PropertyIsLike('csw:title', '%Hannover%')   \n",
    "csw2.getrecords2(constraints=[hannover_query])   \n",
    "csw2.results   \n",
    "\n",
    "for rec in csw2.records:\n",
    "    print(csw2.records[rec].title)"
   ]
  },
  {
   "cell_type": "code",
   "execution_count": 23,
   "metadata": {},
   "outputs": [
    {
     "data": {
      "text/plain": [
       "{'matches': 83, 'returned': 10, 'nextrecord': 11}"
      ]
     },
     "execution_count": 23,
     "metadata": {},
     "output_type": "execute_result"
    }
   ],
   "source": [
    "#Test documentation\n",
    "csw2 = CatalogueServiceWeb('https://gdk.gdi-de.org/gdi-de/srv/ger/csw')\n",
    "\n",
    "hannover_query = PropertyIsLike('csw:title', '%Hannover%')\n",
    "csw2.getrecords2(constraints=[hannover_query])\n",
    "csw2.results\n"
   ]
  },
  {
   "cell_type": "code",
   "execution_count": 22,
   "metadata": {},
   "outputs": [
    {
     "name": "stdout",
     "output_type": "stream",
     "text": [
      "Naturschutzgebiete in der Region Hannover\n",
      "INSPIRE Downloaddienst (WFS) - Naturschutzgebiete - originär (Region Hannover)\n",
      "INSPIRE Darstellungsdienst (WMS) - Naturschutzgebiete - originär (Region Hannover)\n",
      "INSPIRE Downloaddienst (ATOM-Feed) - Naturschutzgebiete - originär (Region Hannover)\n"
     ]
    }
   ],
   "source": [
    "\n",
    "for rec in csw2.records:\n",
    "    print(csw2.records[rec].title)"
   ]
  },
  {
   "cell_type": "code",
   "execution_count": 20,
   "metadata": {},
   "outputs": [
    {
     "data": {
      "text/plain": [
       "'Naturschutzgebiete in der Region Hannover'"
      ]
     },
     "execution_count": 20,
     "metadata": {},
     "output_type": "execute_result"
    }
   ],
   "source": [
    "# wanted dataset\n",
    "csw2.getrecordbyid(id=['412966c0-a49f-40d2-8419-d7eca338da0f'])\n",
    "csw2.records['412966c0-a49f-40d2-8419-d7eca338da0f'].title"
   ]
  }
 ],
 "metadata": {
  "kernelspec": {
   "display_name": "Python 3 (ipykernel)",
   "language": "python",
   "name": "python3"
  },
  "language_info": {
   "codemirror_mode": {
    "name": "ipython",
    "version": 3
   },
   "file_extension": ".py",
   "mimetype": "text/x-python",
   "name": "python",
   "nbconvert_exporter": "python",
   "pygments_lexer": "ipython3",
   "version": "3.10.11"
  },
  "vscode": {
   "interpreter": {
    "hash": "b8b300b7a3ff43d5a61f5cbfe8eff47befef07c4cfb5ff5f8c8ba01202962bfa"
   }
  }
 },
 "nbformat": 4,
 "nbformat_minor": 2
}
