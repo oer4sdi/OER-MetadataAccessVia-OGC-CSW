{
 "cells": [
  {
   "attachments": {},
   "cell_type": "markdown",
   "metadata": {},
   "source": [
    "# 4.3 Accessing metadata via Python from a Jupyter Notebook\n",
    "Now that we know how an implemented interface of an catalog service looks, we want to take a look behind the geoportals and software such as QGIS. We now write our own software with Jupyter notebooks which interacts with OGC CSW catalog services.  \n",
    "But before we can start let's quickly set up our all other components which we need. The OGC have an own Python library, called OWSLib, for client programming. This library allows the users to access and utilize geospatial data from their online services, like WMS or CSW, via Python. After installing the library you will also need to import the CSW class from OWSLib and some methods for later use.     \n",
    "If you're interested in OWSLib and want to look more into that you can find an detailed documentation for OWSLib under https://owslib.readthedocs.io/en/latest/."
   ]
  },
  {
   "cell_type": "code",
   "execution_count": 1,
   "metadata": {},
   "outputs": [
    {
     "name": "stdout",
     "output_type": "stream",
     "text": [
      "Requirement already satisfied: OWSLib in c:\\users\\tobias\\appdata\\local\\packages\\pythonsoftwarefoundation.python.3.10_qbz5n2kfra8p0\\localcache\\local-packages\\python310\\site-packages (0.29.1)\n",
      "Requirement already satisfied: python-dateutil>=1.5 in c:\\users\\tobias\\appdata\\local\\packages\\pythonsoftwarefoundation.python.3.10_qbz5n2kfra8p0\\localcache\\local-packages\\python310\\site-packages (from OWSLib) (2.8.2)\n",
      "Requirement already satisfied: lxml in c:\\users\\tobias\\appdata\\local\\packages\\pythonsoftwarefoundation.python.3.10_qbz5n2kfra8p0\\localcache\\local-packages\\python310\\site-packages (from OWSLib) (4.9.2)\n",
      "Requirement already satisfied: pyyaml in c:\\users\\tobias\\appdata\\local\\packages\\pythonsoftwarefoundation.python.3.10_qbz5n2kfra8p0\\localcache\\local-packages\\python310\\site-packages (from OWSLib) (6.0)\n",
      "Requirement already satisfied: pytz in c:\\users\\tobias\\appdata\\local\\packages\\pythonsoftwarefoundation.python.3.10_qbz5n2kfra8p0\\localcache\\local-packages\\python310\\site-packages (from OWSLib) (2022.7.1)\n",
      "Requirement already satisfied: requests>=1.0 in c:\\users\\tobias\\appdata\\local\\packages\\pythonsoftwarefoundation.python.3.10_qbz5n2kfra8p0\\localcache\\local-packages\\python310\\site-packages (from OWSLib) (2.28.2)\n",
      "Requirement already satisfied: six>=1.5 in c:\\users\\tobias\\appdata\\local\\packages\\pythonsoftwarefoundation.python.3.10_qbz5n2kfra8p0\\localcache\\local-packages\\python310\\site-packages (from python-dateutil>=1.5->OWSLib) (1.16.0)\n",
      "Requirement already satisfied: certifi>=2017.4.17 in c:\\users\\tobias\\appdata\\local\\packages\\pythonsoftwarefoundation.python.3.10_qbz5n2kfra8p0\\localcache\\local-packages\\python310\\site-packages (from requests>=1.0->OWSLib) (2022.12.7)\n",
      "Requirement already satisfied: urllib3<1.27,>=1.21.1 in c:\\users\\tobias\\appdata\\local\\packages\\pythonsoftwarefoundation.python.3.10_qbz5n2kfra8p0\\localcache\\local-packages\\python310\\site-packages (from requests>=1.0->OWSLib) (1.26.14)\n",
      "Requirement already satisfied: charset-normalizer<4,>=2 in c:\\users\\tobias\\appdata\\local\\packages\\pythonsoftwarefoundation.python.3.10_qbz5n2kfra8p0\\localcache\\local-packages\\python310\\site-packages (from requests>=1.0->OWSLib) (3.0.1)\n",
      "Requirement already satisfied: idna<4,>=2.5 in c:\\users\\tobias\\appdata\\local\\packages\\pythonsoftwarefoundation.python.3.10_qbz5n2kfra8p0\\localcache\\local-packages\\python310\\site-packages (from requests>=1.0->OWSLib) (3.4)\n",
      "Note: you may need to restart the kernel to use updated packages.\n"
     ]
    },
    {
     "name": "stderr",
     "output_type": "stream",
     "text": [
      "\n",
      "[notice] A new release of pip is available: 23.0.1 -> 23.2.1\n",
      "[notice] To update, run: C:\\Users\\Tobias\\AppData\\Local\\Microsoft\\WindowsApps\\PythonSoftwareFoundation.Python.3.10_qbz5n2kfra8p0\\python.exe -m pip install --upgrade pip\n"
     ]
    }
   ],
   "source": [
    "%pip install OWSLib\n",
    "from owslib.csw import CatalogueServiceWeb\n",
    "from owslib.fes import PropertyIsEqualTo, BBox, PropertyIsLike\n"
   ]
  },
  {
   "attachments": {},
   "cell_type": "markdown",
   "metadata": {},
   "source": [
    "Now we need the URL from a CSW, let's use the Catalog Service from the previous examples. If you search for the \"geodatenkatalog csw\" in your prefered browser, you should get the catalog service in one of the first links (https://gdk.gdi-de.org/gdi-de/srv/ger/csw?service=CSW&version=2.0.2&REQUEST=GetCapabilities&SERVICE=CSW). It's the GetCapabilities request from the CSW, remember that you get all the metadata for the catalog service itself. You could interact with the service in your browser, too. But that is a bit more tricky as you have to write all your requests in the URL.      \n",
    "But to use the catalogue service from INSPIRE in the CSW class from OWSLib you only need the first part of the URL until before the \"?\". With that and the function CatalogueServiceWeb(), we can create a connection to the CSW. "
   ]
  },
  {
   "cell_type": "code",
   "execution_count": 2,
   "metadata": {},
   "outputs": [],
   "source": [
    "CSW_URL = 'https://gdk.gdi-de.org/gdi-de/srv/ger/csw'\n",
    "csw = CatalogueServiceWeb(CSW_URL)"
   ]
  },
  {
   "attachments": {},
   "cell_type": "markdown",
   "metadata": {},
   "source": [
    "Yeah we got a connection!    \n",
    "\n",
    "------\n",
    "\n",
    "In the beginning of the module we learned about the operations of a CSW. Can you remember any except the GetCapabilities() operation? If not here are some reminders for you of the main operations:     \n",
    "\n",
    "1. GetCapabilites(): This operation allows retrieving the available functions and properties of the CSW, including supported operations and data schema.\n",
    "\n",
    "2. DescribeRecord(): This operation allows retrieving information about the available metadata records, including the metadata schema and supported metadata elements. \n",
    "\n",
    "3. GetRecords(): This operation enables retrieving metadata records based on specific criteria such as keywords, spatial extents, or time intervals.\n",
    "\n",
    "4. GetRecordById(): This operation allows retrieving metadata records by their unique identification number. \n",
    "\n",
    "5. Transaction(): This operation supports adding, updating, or deleting metadata records in the CSW.\n",
    "\n",
    "\n",
    "Let's take look on the operations which the catalog service has."
   ]
  },
  {
   "cell_type": "code",
   "execution_count": 3,
   "metadata": {},
   "outputs": [
    {
     "name": "stdout",
     "output_type": "stream",
     "text": [
      "['GetCapabilities', 'DescribeRecord', 'GetDomain', 'GetRecords', 'GetRecordById', 'Transaction', 'Harvest']\n"
     ]
    }
   ],
   "source": [
    "op = [op.name for op in csw.operations]\n",
    "print(op)"
   ]
  },
  {
   "attachments": {},
   "cell_type": "markdown",
   "metadata": {},
   "source": [
    "-------\n",
    "The GetRecords() operation from the CSW is implemented through the getrecords2() method from the OWSLib library. In the method you can give \"constraints\" to filter through the CSW. With the argument maxrecords you can also set the number of the first records that will be returned (The default would be 10). \n",
    "There are some methods like PropertyIsLike() or PropertyIsEqualTo(), which we imported in the beginning, to make filters. There you can insert an string with the information, which element should be searched for, and a string with the keyword you want to search for. As Elements you can use for example:\n",
    "- csw:Title: which search for a specific title\n",
    "- csw:AnyText: which finds all records which contain the specific given string anywhere.\n",
    "\n",
    "After that you can get the results with the results method from the OWSLib library.\n"
   ]
  },
  {
   "cell_type": "code",
   "execution_count": 4,
   "metadata": {},
   "outputs": [
    {
     "data": {
      "text/plain": [
       "{'matches': 89, 'returned': 20, 'nextrecord': 21}"
      ]
     },
     "execution_count": 4,
     "metadata": {},
     "output_type": "execute_result"
    }
   ],
   "source": [
    "NSG_filter = PropertyIsLike('csw:Title', '%Naturschutzgebiete%')\n",
    "csw.getrecords2(constraints=[NSG_filter], maxrecords=20)\n",
    "csw.results"
   ]
  },
  {
   "attachments": {},
   "cell_type": "markdown",
   "metadata": {},
   "source": [
    "To get an more informative output, for example the titles or something else, of your results, you can make a for loop and print the records."
   ]
  },
  {
   "cell_type": "code",
   "execution_count": 8,
   "metadata": {},
   "outputs": [
    {
     "name": "stdout",
     "output_type": "stream",
     "text": [
      "Naturschutzgebiete in den Landkreisen Nordvorpommern und Rügen in Übersicht\n",
      "Das StAUN HST verwaltet 32  NSG in den LK Norrdvorpommern und Rügen, die in der Karte \"Naturschutzflächen Mecklenburg-Vorpommern\", Ausgabe 1995 des Landesvermessungsamtes M-V\n",
      "(1:250000) anhand von Schutzgebietsnummern registriert sind.\n",
      "Schutzgebietsnummern für NSG mit Verordnung: 4, 9, 13, 14, 16, 18, 43 B, 210, 252, 253, 254, 255,\n",
      "256, 257, 273, 276, 285, 286, 292, 311.\n",
      "Schutzgebietsnummern für NSG mit Behandlungsrichtlinien: 4, 9, 13, 14, 16, 18, 21, 22, 23, 43 A, 46, 62, 80, 83, 128, 129, 130, 294, 295.\n",
      "Für einige Schutzgebiete liegen Gutachten zur Renaturierung bzw. Studien zum gegenwärtigen Zustand vor.\n",
      " \n",
      "Dez.210 Arten- und Biotopschutz, Naturschutzgebiete Amtsbereich StALU MS Neubrandenburg\n",
      "Das Dezernat 210 \"Arten- und Biotopschutz, Naturschutzgebiete\" hat als Hauptaufgabe die Erhaltung des vorhandenen Arteninventars der freilebenden Tiere und Pflanzen und der Ökosysteme zu sichern.\n",
      "\n",
      "Das Dezernat 210 ist für die Entscheidung über Ausnahmen und Befreiungen in den festgesetzten oder einstweilig gesicherten Naturschutzgebieten zuständig. Hier werden auch die Unterschutzstellungsverfahren für Naturschutzgebiete vorbereitet, deren weitere Entwicklung geplant und Pflege- und Entwicklungsmaßnahmen organisiert und finanziert. Damit wird ein wesentlicher Beitrag zur Erhaltung der einzigartigen Naturausstattung Mecklenburg-Vorpommerns geleistet.\n",
      " \n",
      "Naturschutzgebiete (1:5.000) in Schleswig-Holstein LfU\n",
      "Gebietsabgrenzungen der bestehenden Naturschutzgebiete (NSG) gemäß § 23 Absat 1 Nr. 1 bis 3 Bundesnaturschutzgesetz vom 29. Juli 2009 [BGBl. I S. 2542] (zuletzt geändert 6. Oktober 2011 [BGBl. I S. 1986)§ 13 LNatSchG (2010). Stand: März 2022\n",
      " \n",
      "Naturschutzgebiete im Landkreis Verden\n",
      "Flächen aller im Landkreis Verden vorkommenden Naturschutzgebiete\n",
      " \n",
      "Wuppertal ATOM Feed Naturschutzgebiete\n",
      "Der ATOM Feed Downloadservice für die Naturschutzgebiete in Wuppertal stellt einen Datensatz zum Download bereit, der zum einen die Geltungsbereiche der seit 1995 gemäß §7 Landesnaturschutzgesetz NRW in den vier rechtsverbindlichen Landschaftsplänen der Stadt Wuppertal (Wuppertal-Gelpe, Wuppertal-Ost, Wuppertal-Nord und Wuppertal-West) festgesetzten Naturschutzgebiete umfasst, zum anderen zwei Flächen bzw. Restflächen von Naturschutzgebieten, die zuvor vom Land NRW durch Einzelverordnungen festgelegt worden waren (Naturschutzgebiet \"Hardthöhlen\" von 1966, Restfläche des ursprünglichen 1996 festgelegten Naturschutzgebietes \"Herichhauser Bach“). Mit der Festlegung der Naturschutzgebiete in den Landschaftsplänen wurde der flächenmäßig größte Teil der Naturschutzgebiete aus den früheren Einzelverordnungen des Landes aufgehoben. Die räumlichen Geltungsbereiche der Naturschutzgebiete wurden vom Ressort Vermessung, Katasteramt und Geodaten durch fachgerechte Interpretation der analogen und digitalen Originale entlang von Flurstücksgrenzen, Grenzen der tatsächlichen Nutzung oder anderen topografischen Linien des Liegenschaftskatasters flurstücksscharf konstruiert. Dabei wurden auch die Akten zu früher erteilten planungsrechtlichen Einzelfallauskünften zur Lage eines Flurstückes innerhalb oder außerhalb eines Naturschutzgebietes herangezogen, um diesbezüglich widersprüchliche Aussagen der Stadtverwaltung zu vermeiden. Die Geltungsbereiche der Wuppertaler Naturschutzgebiete sind seit 03/2005 planungsrechtlich gesehen unverändert. Eine einzelfallbezogene Fortführung des Datenbestandes ist theoretisch möglich, wegen des hohen Stellenwertes der Naturschutzgebiete aber unwahrscheinlich. Eine umfangreichere Fortführung des Datenbestandes erfolgt nur dann, wenn ein neuer Landschaftsplan rechtskräftig geworden ist oder nach rechtswirksamer Änderung eines bestehenden Landschaftsplans. Die Aktualisierung der Daten, auf die der Downloadservice zugreift, erfolgt gleichwohl sicherheitshalber wöchentlich in einem festen Turnus. Der vom Downloadservice bereitgestellte Datensatz unterliegt einer Open-Data-Lizenz mit Ausschluss der Datenveränderung (CC BY-ND 4.0). Nach Auffassung der AG Geokom.NRW der kommunalen Spitzenverbände in NRW und des Landes NRW besteht für die Naturschutzgebiete eine gesetzliche Publikationspflicht nach den Vorgaben der INSPIRE-Richtlinie bzw. des Geodatenzugangsgesetzes NRW. Sie werden in der Handlungsempfehlung dieser AG dem Thema \"Schutzgebiete\" aus Anhang I der Richtlinie zugeordnet.\n",
      " \n",
      "Naturschutzgebiete Landkreis Nordsachsen  (WMS Dienst)\n",
      "Der Metadatensatz beschreibt alle rechtsverbindlich festgesetzten Gebiete, in denen ein besonderer Schutz von Natur und Landschaft in ihrer Ganzheit oder in einzelnen Teilen erforderlich ist zur Erhaltung, Entwicklung oder Wiederherstellung von Lebensstätten, Biotopen oder Lebensgemeinschaften bestimmter wildlebender Tier- und Pflanzenarten, aus wissenschaftlichen, naturgeschichtlichen oder landeskundlichen Gründen oder wegen ihrer Seltenheit, besonderen Eigenart oder hervorragenden Schönheit (§ 23 Abs. 1 Bundesnaturschutzgesetz). Z. Zt. sind im Lkr. Nordsachsen 15 Gebiete mit einer Gesamtfläche von ca. 78,55 Quadratkilometer ausgewiesen. Zuständig für die Ausweisung ist das Landratsamt Nordsachsen als Untere Naturschutzbehörde.\n",
      " \n",
      "Naturschutzgebiete\n",
      "Auf der Grundlage von Karten der Schutzgebietsdokumentation wurden durch das LUNG Digitalisiervorlagen im Maßstab 1:50.000 gezeichnet, auf deren Basis ein Shapefile erstellt wurde. Zu beachten ist, dass dadurch die maßstabsbedingte Ungenauigkeit bereits bei 50 m lag. Aufgrund des zweistufigen Übertragungsprozesses von den Verordnungskarten (bspw. Flurkarten oder Forstgrundkarten basierend) über die Digitalisiervorlage in das Shapefile kam es wahrscheinlich sogar zu größeren Ungenauigkeiten als 50 m.\n",
      "In den Folgejahren wurden sukzessive Digitalisiervorlagen im Maßstab 1:10.000 erstellt, auf deren Basis die Qualität des Shapefiles durch ¿On-Screen-Digitalisierung¿ vor dem Hintergrund von topographischen Karten, später auch Orthophotos verbessert wurde.\n",
      "Für die seit 2006 neu ausgewiesenen NSG werden bereits im Rahmen des Ausweisungsprozesses im Auftrag des Umweltministeriums/Ministeriums für Landwirtschaft, Umwelt und Verbraucherschutz (als Verordnungsgeber) digitale Geometrien erstellt. Diese werden nach Ausweisung in den Datenbestand der Flächen der NSG integriert.\n",
      "Die Flächen der einzelnen NSG liegen also in diesem Datenbestand in unterschiedlicher Genauigkeit vor.\n",
      "Für die genaue Feststellung der Grenzen eines Naturschutzgebiets sind  stets die zur Verordnung gehörigen Karten (also nach 1990 die Flurkarten) heranzuziehen.\n",
      "Mit dem Gesetz über das Biosphärenreservat Flusslandschaft Elbe Mecklenburg-Vorpommern (Biosphärenreservat-Elbe-Gesetz - BRElbeG M-V) vom 15.01.2015 sind zum 01.02.2015 (Inkrafttreten des BRElbeG M-V) alle Naturschutzgebiete innerhalb des Geltungsbereichs dieses Gesetzes aufgehoben worden. Zugleich wurden Pflegezonen ausgewiesen, die in Schutzintensität und Regelungsinhalt mit Naturschutzgebieten vergleichbar sind. Die Pflegezonen (PZ) des Biosphärenreservats Flusslandschaft Elbe M-V werden daher mit im Shapefile der Naturschutzgebiete geführt. [Hinweis: In den Biosphärenreservaten Schaalsee und Südost-Rügen, die zu einem früheren Zeitpunkt errichtet wurden, sind die Kern- und Pflegezonen ausdrücklich als Naturschutzgebiet ausgewiesen, es gibt also innerhalb dieser Biosphärenreservate formelle Naturschutzgebiete.]\n",
      " \n",
      "Naturschutzgebiete (Landkreis Holzminden)\n",
      "ausgewiesene Naturschutzgebiete im Landkreis Holzminden\n",
      " \n",
      "Naturschutzgebiete in der Region Hannover\n",
      "Das Thema enthält alle derzeit gültigen Naturschutzgebiete (NSG), gemäß §23 BNatSchG, in der Region Hannover. Naturschutzgebiete sind rechtsverbindlich festgesetzte Gebiete, in denen ein besonderer Schutz von Natur und Landschaft in ihrer Ganzheit oder in einzelnen Teilen erforderlich ist entweder zur Erhaltung, Entwicklung oder Wiederherstellung von Lebensstätten, Biotopen oder Lebensgemeinschaften bestimmter wild lebender Tier- und Pflanzenarten, aus wissenschaftlichen, naturgeschichtlichen oder landeskundlichen Gründen oder wegen ihrer Seltenheit, besonderen Eigenart oder hervorragenden Schönheit.\n",
      " \n",
      "Naturschutzgebiete\n",
      "alle im Landkreis Bautzen rechtsverbindlich festgesetzten Naturschutzgebiete und alle, die einstweilig gesichert wurden\n",
      " \n",
      "Naturschutzgebiete Landkreis Mittelsachsen\n",
      "Der Metadatensatz beschreibt alle festgesetzten Schutzgebiete im Landkreises Mittelsachsen der Kategorie „Naturschutzgebiete“. Aufgrund der vorliegenden Verordnungen/Beschlüsse ergibt sich eine Gesamtfläche von 16,80 km². Naturschutzgebiete sind rechtsverbindlich festgesetzte Gebiete gemäß § 23 BNatSchG i.V.m. § 14 SächsNatSchG in denen ein besonderer Schutz von Natur und Landschaft erforderlich ist. Zuständig für die Ausweisung der Naturschutzgebiete ist das Landratsamt Mittelsachsen als Untere Naturschutzbehörde. Der GML-Download der Geodaten über WFS ist hier möglich.\n",
      " \n",
      "Waldfunktionen in Sachsen - Naturschutzgebiete nach Sächsischem Naturschutzgesetz\n",
      "Der Datensatz enthält die Naturschutzgebiete nach Sächsischem Naturschutzgesetz (SächsNatSchG) und Bundesnaturschutzgesetz (BNatSchG) im Freistaat Sachsen. Als Naturschutzgebiet können durch Rechtsverordnung Gebiete festgesetzt werden, in denen ein besonderer Schutz von Natur und Landschaft in seiner Ganzheit oder in einzelnen Teilen erforderlich ist. Hierzu zählen der Erhaltung, die Entwicklung oder die Wiederherstellung von Lebensstätten, Biotopen oder Lebensgemeinschaften bestimmter wild lebender Tier- und Pflanzenarten, wissenschaftliche, naturgeschichtliche oder landeskundliche Gründe oder die Seltenheit, besondere Eigenart oder hervorragende Schönheit eines Gebietes. Zu jeder Fläche wird der geographische Name des Naturschutzgebietes aufgeführt. Die Daten werden für die Waldfunktionskarte 1:25.000 von Sachsen verwendet. Weitere Informationen sind der vom Staatsbetrieb Sachsenforst herausgegebenen Broschüre zur Waldfunktionskartierung zu entnehmen.\n",
      " \n",
      "Naturschutzgebiete (1:25.000) in Schleswig-Holstein LfU\n",
      "Gebietsabgrenzungen der bestehenden Naturschutzgebiete (NSG) gemäß § 23 Absat 1 Nr. 1 bis 3 Bundesnaturschutzgesetz vom 29. Juli 2009 [BGBl. I S. 2542] (zuletzt geändert 6. Oktober 2011 [BGBl. I S. 1986)§ 13 LNatSchG (2010). Stand: laufende Anpassung\n",
      " \n",
      "Naturschutzgebiete - originär\n",
      "Dienst NSG\n",
      " \n",
      "Naturschutzgebiete\n",
      "Dargestellt werden alle Naturschutzgebiete in Sachsen, die nach § 23 BNatSchG unter Schutz stehen.\n",
      " \n",
      "Naturschutzgebiete im Landkreis Vechta\n",
      "Überarbeitete Geltungsbereiche der Naturschutzgebiete\n",
      " \n",
      "Maßnahmen Naturschutzgebiete AWZ\n",
      "Dieser Datensatz enthält die Maßnahmen in den Naturschutzgebieten im Bereich der deutschen ausschließlichen Wirtschaftszone und des Festlandsockels gemäß den Verordnungen vom 28.09.2017 (Bundesgesetzblatt Jahrgang 2017 Teil Nr. 63).\n",
      " \n",
      "Schutzgebiete_INS - Naturschutzgebiete\n",
      "Der Kartendienst stellt die für INSPIRE gemeldete Schutzgebietsdaten des Saarlandes dar.:Naturschutzgebiete im Saarland: Bei dieser Schutzgebietskategorie handelt es sich um Gebiete, in denen ein besonderer Schutz von Natur und Landschaft in ihrer Ganzheit oder in einzelnen Teilen erforderlich ist. Schutzgebiete dieser Kategorie sind die am strengsten geschützten Gebiete. Insbesondere werden die wild lebenden Pflanzen oder Tiere, Biotope oder bestimmte Lebensgemeinschaften zu ihrem Erhalt, ihrer Entwicklung, aufgrund ihres seltenen Vorkommens oder auch aus wissenschaftlichen Gründen unter den gesetzlichen Schutz gestellt. Aktuell sind 121 Naturschutzgebiete unter Schutz gestellt. Für welche Gebiete welche Erfassungsschärfe vorliegt, kann aus dem Attribut-Feld „Erfassungsmaßstab“ abgelesen werden. Die Bestandskarte der Naturschutzgebiete im Saarland gibt Auskunft über die aktuell ausgewiesenen Naturschutzgebiete. Sachdaten/Attributinformationen: NAME:Name des Naturschutzgebietes AUSWEISUNG:Datum der Ausweisung AMT_J_S:im Amtsblatt veröffentlicht-Jahr_Seite GEB_ID_SL:Gebietsnummer Saarland für Bund/Länder-Datenaustausch INFO:Link zu den dazugehörigen Metadaten NR_BER_SAM:Nummer der bereinigten Sammlung des NSG VO_QUELLE:Verordnung über das Naturschutzgebiet ERFASSUNG: Erfassungsgrundlage RECHTSGR:Rechtsgrundlage SHAPE_AREA:vom System berechnete Flächen SHAPE_LEN:vom System berechneter Umring FLAECHE_HA:amtliche Flächengröße in HA gemäß Verordnung\n",
      " \n",
      "Naturschutzgebiete Wuppertal\n",
      "Der Datensatz \"Naturschutzgebiete Wuppertal\" umfasst zum einen die Geltungsbereiche der seit 1995 gemäß §7 Landesnaturschutzgesetz NRW in den vier rechtsverbindlichen Landschaftsplänen der Stadt Wuppertal (Wuppertal-Gelpe, Wuppertal-Ost, Wuppertal-Nord und Wuppertal-West) festgesetzten Naturschutzgebiete, zum anderen zwei Flächen bzw. Restflächen von Naturschutzgebieten, die zuvor vom Land NRW durch Einzelverordnungen festgelegt worden waren (Naturschutzgebiet \"Hardthöhle\" von 1966, Restfläche des ursprünglichen 1996 festgelegten Naturschutzgebietes \"Herichhauser Bach\"). Mit der Festlegung der Naturschutzgebiete in den Landschaftsplänen wurde der flächenmäßig größte Teil der Naturschutzgebiete aus den früheren Einzelverordnungen des Landes aufgehoben. Die räumlichen Geltungsbereiche der Naturschutzgebiete wurden vom Ressort Vermessung, Katasteramt und Geodaten durch fachgerechte Interpretation der analogen und digitalen Originale entlang von Flurstücksgrenzen, Grenzen der tatsächlichen Nutzung oder anderen topografischen Linien des Liegenschaftskatasters flurstücksscharf konstruiert. Dabei wurden auch die Akten zu früher erteilten planungsrechtlichen Einzelfallauskünften zur Lage eines Flurstückes innerhalb oder außerhalb eines Naturschutzgebietes herangezogen, um diesbezüglich widersprüchliche Aussagen der Stadtverwaltung zu vermeiden. Die Geltungsbereiche der Wuppertaler Naturschutzgebiete sind seit 03/2005 planungsrechtlich gesehen unverändert. Eine einzelfallbezogene Fortführung des Datenbestandes ist theoretisch möglich, wegen des hohen Stellenwertes der Naturschutzgebiete aber unwahrscheinlich. Eine umfangreichere Fortführung des Datenbestandes erfolgt nur dann, wenn ein neuer Landschaftsplan rechtskräftig geworden ist oder nach rechtswirksamer Änderung eines bestehenden Landschaftsplans. Der Datensatz ist unter einer Open-Data-Lizenz (CC BY-ND 4.0) mit Ausschluss der Datenveränderung verfügbar. Nach Auffassung der AG Geokom.NRW der kommunalen Spitzenverbände in NRW und des Landes NRW besteht für die Naturschutzgebiete eine gesetzliche Publikationspflicht nach den Vorgaben der INSPIRE-Richtlinie bzw. des Geodatenzugangsgesetzes NRW. Sie werden in der Handlungsempfehlung dieser AG dem Thema \"Schutzgebiete\" aus Anhang I der Richtlinie zugeordnet.\n",
      " \n",
      "Naturschutzgebiete (NSG) - Erzgebirgskreis\n",
      "Naturschutzgebiete sind rechtsverbindlich festgesetzte Gebiete, in denen ein besonderer Schutz von Natur und Landschaft in ihrer Ganzheit oder in einzelnen Teilen erforderlich ist; zur Erhaltung, Entwicklung oder Wiederherstellung von Lebensstätten, Biotopen oder Lebensgemeinschaften bestimmter wild lebender Tier- und Pflanzenarten; aus wissenschaftlichen, naturgeschichtlichen oder landeskundlichen Gründen oder wegen ihrer Seltenheit, besonderen Eigenart oder hervorragenden Schönheit\n",
      " \n"
     ]
    }
   ],
   "source": [
    "for rec in csw.records:\n",
    "    print(csw.records[rec].title)\n",
    "    print(csw.records[rec].abstract)\n",
    "    print(\" \")"
   ]
  },
  {
   "attachments": {},
   "cell_type": "markdown",
   "metadata": {},
   "source": [
    "You can also try to filter with BBox(). That will make it possible to filter for datasets in a specific area. The method will use an array with latitudes and longitudes. Therefore you need two points in this order: [latMin, longMin, latMax, longMax]. "
   ]
  },
  {
   "cell_type": "code",
   "execution_count": 9,
   "metadata": {},
   "outputs": [
    {
     "data": {
      "text/plain": [
       "{'matches': 3051, 'returned': 10, 'nextrecord': 11}"
      ]
     },
     "execution_count": 9,
     "metadata": {},
     "output_type": "execute_result"
    }
   ],
   "source": [
    "bbox_query = BBox([52.839976, 7.474823, 53.098018, 7.911530])\n",
    "csw.getrecords2(constraints=[bbox_query])\n",
    "csw.results"
   ]
  },
  {
   "attachments": {},
   "cell_type": "markdown",
   "metadata": {},
   "source": [
    "If you already know the identifier of our wanted dataset and want to look if it is in the catalog, you can also search for that aswell with the getrecordbyid() method. It represents the GetRecordsByID operation from the CSW."
   ]
  },
  {
   "cell_type": "code",
   "execution_count": 10,
   "metadata": {},
   "outputs": [
    {
     "data": {
      "text/plain": [
       "'Naturschutzgebiete (NSG)'"
      ]
     },
     "execution_count": 10,
     "metadata": {},
     "output_type": "execute_result"
    }
   ],
   "source": [
    "csw.getrecordbyid(id=['EE85FE8F-BD05-4A6D-813B-6ABC4514B18B'])\n",
    "csw.records['EE85FE8F-BD05-4A6D-813B-6ABC4514B18B'].title\n"
   ]
  },
  {
   "attachments": {},
   "cell_type": "markdown",
   "metadata": {},
   "source": [
    "-------\n",
    "So now that you know how to search in an CSW with OWSLib try to find the dataset that we have found in the last excercise in the geoportal aswell with the mtheod getrecords2()."
   ]
  },
  {
   "cell_type": "code",
   "execution_count": null,
   "metadata": {},
   "outputs": [],
   "source": [
    "# define filters\n",
    "\n",
    "\n",
    "# GetRecords() method\n",
    "response = csw.getrecords2(constraints=[filter], maxrecords=10)\n",
    "\n",
    "# If there are results print the titles of them\n",
    "if response is not None:\n",
    "    # Show results\n",
    "    for rec in response.records:\n",
    "        print(rec.title)\n",
    "else:\n",
    "    print(\"There are no results found. Please try to work out your filters\")"
   ]
  },
  {
   "attachments": {},
   "cell_type": "markdown",
   "metadata": {},
   "source": [
    "------\n",
    "# Example Answer\n",
    "------"
   ]
  },
  {
   "cell_type": "code",
   "execution_count": null,
   "metadata": {},
   "outputs": [],
   "source": [
    "# define filters\n",
    "\n",
    "\n",
    "# GetRecords() method\n",
    "response = csw.getrecords2(constraints=[filter], maxrecords=10)\n",
    "\n",
    "# If there are results print the titles of them\n",
    "if response is not None:\n",
    "    # Ergebnisse auswerten\n",
    "    for rec in response.records:\n",
    "        print(rec.title)\n",
    "else:\n",
    "    print(\"There are no results found. Please try to work out your filters\")"
   ]
  },
  {
   "attachments": {},
   "cell_type": "markdown",
   "metadata": {},
   "source": [
    "-------\n",
    "## Testing  \n",
    "\n",
    "-------\n"
   ]
  },
  {
   "cell_type": "code",
   "execution_count": 12,
   "metadata": {},
   "outputs": [
    {
     "name": "stdout",
     "output_type": "stream",
     "text": [
      "{'matches': 600007, 'returned': 10, 'nextrecord': 11}\n"
     ]
    }
   ],
   "source": [
    "csw.getrecords2()\n",
    "print(csw.results)"
   ]
  },
  {
   "cell_type": "code",
   "execution_count": null,
   "metadata": {},
   "outputs": [],
   "source": [
    "caps = csw.getcapabilities()\n",
    "\n",
    "# verfügbare Suchkriterien ausgeben\n",
    "for op in csw.operations:\n",
    "    if 'GetRecords' in op.name:\n",
    "        print(f\"\\nSearch criteria for {op.name}:\")\n",
    "        for constraint in op.constraints:\n",
    "            print(f\"  {constraint.name}\")"
   ]
  }
 ],
 "metadata": {
  "kernelspec": {
   "display_name": "Python 3 (ipykernel)",
   "language": "python",
   "name": "python3"
  },
  "language_info": {
   "codemirror_mode": {
    "name": "ipython",
    "version": 3
   },
   "file_extension": ".py",
   "mimetype": "text/x-python",
   "name": "python",
   "nbconvert_exporter": "python",
   "pygments_lexer": "ipython3",
   "version": "3.10.11"
  },
  "vscode": {
   "interpreter": {
    "hash": "b8b300b7a3ff43d5a61f5cbfe8eff47befef07c4cfb5ff5f8c8ba01202962bfa"
   }
  }
 },
 "nbformat": 4,
 "nbformat_minor": 2
}
