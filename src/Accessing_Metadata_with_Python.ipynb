{
 "cells": [
  {
   "cell_type": "markdown",
   "id": "6457b06d-6c5f-45e2-b555-3d7710e44893",
   "metadata": {},
   "source": [
    "# 3.4 Accessing metadata with Python from a Jupyter Notebook\n",
    "\n",
    "Now that we know how geoportals and QGIS work with OGC CSW catalog services, let's take a look behind the scenes and write our own software that interacts with catalog services.  \n",
    "## 3.4.1 Installing OWSLib\n",
    "\n",
    "But before we start, we first need to set up all the components that we need for this, particularly OWSLibs.\n",
    "OWSLib is a Python library for client programming that supports working with OGC Web Services such as WMS, WFS or CSW. After installing the library, you will also need to import the CSW class from OWSLib and some methods for later use. If you are interested to learn more about OWSLib you can find the detailed documentation https://owslib.readthedocs.io/en/latest/ and use generative AI such as ChatGPT to help you with understanding the code and drafting your own code experiments. "
   ]
  },
  {
   "cell_type": "code",
   "execution_count": null,
   "id": "f8157014-88d2-496d-b6f3-30a630d3cb77",
   "metadata": {},
   "outputs": [],
   "source": [
    "%pip install OWSLib\n",
    "from owslib.csw import CatalogueServiceWeb\n",
    "from owslib.fes import PropertyIsEqualTo, BBox, PropertyIsLike, And"
   ]
  },
  {
   "cell_type": "markdown",
   "id": "cbe414e2-bfbf-4ace-805a-81cc2bb74cc7",
   "metadata": {},
   "source": [
    "## 3.4.2 Creating a CatalogueServiceWeb object and connecting to the catalog\n",
    "\n",
    "Now we need the URL from a CSW catalog service. Let's use the Catalog Service from GDI-DE Geodatenkatalog that we used the previous examples, which has the url: https://gdk.gdi-de.org/gdi-de/srv/ger/csw    \n",
    "\n",
    "You can find the url by searching for “Geodatenkatalog” in the Geodatenkatalog and examining the links that are provided with the metadata.\n",
    "\n",
    "We use this url to create a Catalog Service Object that is able to connect to the catalog service."
   ]
  },
  {
   "cell_type": "code",
   "execution_count": null,
   "id": "c4d2cfd0-f768-4bbd-b9ce-2ae50916f325",
   "metadata": {},
   "outputs": [],
   "source": [
    "CSW_URL = 'https://gdk.gdi-de.org/gdi-de/srv/ger/csw'\n",
    "csw = CatalogueServiceWeb(CSW_URL)\n",
    "\n",
    "print(csw.identification.title)\n"
   ]
  },
  {
   "cell_type": "markdown",
   "id": "7b98b8b2-2e12-4dc7-a54e-9220b76406d0",
   "metadata": {},
   "source": [
    "***Yeah we got a connection!***\n",
    "\n",
    "## 3.4.3 Using CSW operations\n",
    "\n",
    "In the first sections of the tutorial we learned about the operations of a CSW. Can you remember any except the GetCapabilities() operation? If not here are some reminders for you of the main operations:     \n",
    "\n",
    "1. GetCapabilites(): This operation allows retrieving the available functions and properties of the CSW, including supported operations and data schema.\n",
    "\n",
    "2. DescribeRecord(): This operation allows retrieving information about the available metadata records, including the metadata schema and supported metadata elements. \n",
    "\n",
    "3. GetRecords(): This operation enables retrieving metadata records based on specific criteria such as keywords, spatial extents, or time intervals.\n",
    "\n",
    "4. GetRecordById(): This operation allows retrieving metadata records by their unique identification number. \n",
    "\n",
    "5. Transaction(): This operation supports adding, updating, or deleting metadata records in the CSW.\n",
    "\n",
    "\n",
    "**Let's take a look on the operations that the catalog service supports:**"
   ]
  },
  {
   "cell_type": "code",
   "execution_count": null,
   "id": "92ec81a0-d92e-487e-95e0-799589f726c4",
   "metadata": {},
   "outputs": [],
   "source": [
    "op = [op.name for op in csw.operations]\n",
    "print(op)"
   ]
  },
  {
   "cell_type": "markdown",
   "id": "8e9ac667-6cfd-4fe3-9bdb-06b23553c225",
   "metadata": {},
   "source": [
    "### 3.4.3.1 Using GetRecords for querying Metadata\n",
    "\n",
    "The GetRecords() operation from the CSW is implemented through the getrecords2() method from the OWSLib library. In the method you can define filter \"constraints\" on the result set. With the argument maxrecords you can also set the number of the first records that will be returned (The default would be 10). \n",
    "\n",
    "There are some methods like PropertyIsLike() or PropertyIsEqualTo(), which we imported in the beginning, to create filters. You can use string-type arguments to specify, which elements and values you want to search for. As Elements you can use for example:\n",
    "- csw:Title: which search for a specific title\n",
    "- csw:AnyText: which finds all records which contain the specific given string anywhere.\n",
    "\n",
    "After that you can get the results with the results method from the OWSLib library:"
   ]
  },
  {
   "cell_type": "code",
   "execution_count": null,
   "id": "6af17863-b23e-45a5-ae29-a073cc6e9f45",
   "metadata": {},
   "outputs": [],
   "source": [
    "NSG_filter = PropertyIsLike('csw:Title', '%Naturschutzgebiete%')\n",
    "csw.getrecords2(constraints=[NSG_filter], maxrecords=20)\n",
    "csw.results"
   ]
  },
  {
   "cell_type": "markdown",
   "id": "a6ae90eb-d85c-4f43-ada0-3f61320fdcb7",
   "metadata": {},
   "source": [
    "### 3.4.3.2 Iterating through the Result Set\n",
    "\n",
    "To get an more informative output, for example the titles or something else, of your results, you can make a for loop and print the records:"
   ]
  },
  {
   "cell_type": "code",
   "execution_count": null,
   "id": "27bb289a-7afc-4923-a5b5-39f09edfed44",
   "metadata": {},
   "outputs": [],
   "source": [
    "for rec in csw.records:\n",
    "    print(csw.records[rec].title)\n",
    "    print(csw.records[rec].abstract)\n",
    "    print(\" \")"
   ]
  },
  {
   "cell_type": "markdown",
   "id": "c866f20d-a561-4fc4-a288-3f4808722164",
   "metadata": {},
   "source": [
    "### 3.4.3.3 Filtering by BBox\n",
    "\n",
    "You can also try to filter with BBox(). That will make it possible to filter for datasets in a specific area. The method will use an array with latitudes and longitudes. Therefore you need two points in this order: [latMin, longMin, latMax, longMax]. "
   ]
  },
  {
   "cell_type": "code",
   "execution_count": null,
   "id": "d91a09a4-caa5-450a-a6dc-2610b39d3bdf",
   "metadata": {},
   "outputs": [],
   "source": [
    "bbox_query = BBox([52.839976, 7.474823, 53.098018, 7.911530])\n",
    "csw.getrecords2(constraints=[bbox_query])\n",
    "csw.results\n",
    "# be patient, filtering by bbox may take 10 to 30 seconds.."
   ]
  },
  {
   "cell_type": "markdown",
   "id": "e987bc21-bd18-4639-83c0-535e7076a128",
   "metadata": {},
   "source": [
    "## 3.4.4. Using the getRecordsByID Operation\n",
    "\n",
    "If you already know the identifier of our wanted dataset and want to look if it is in the catalog, you can also search for that aswell with the getrecordbyid() method. It represents the GetRecordsByID operation from the CSW."
   ]
  },
  {
   "cell_type": "code",
   "execution_count": null,
   "id": "9327d629-be69-4ab0-a8a6-d58bdc927528",
   "metadata": {},
   "outputs": [],
   "source": [
    "csw.getrecordbyid(id=['EE85FE8F-BD05-4A6D-813B-6ABC4514B18B'])\n",
    "csw.records['EE85FE8F-BD05-4A6D-813B-6ABC4514B18B'].title"
   ]
  },
  {
   "cell_type": "markdown",
   "id": "6ea6d65d-25f0-451c-a828-c39f259deca0",
   "metadata": {},
   "source": [
    "## 3.4.5 Task: find the NSG dataset\n",
    "\n",
    "So now that you know how to search in an CSW with OWSLib try to find the dataset that we have found in the last excercise in the geoportal aswell with the mtheod getrecords2(). Use the next cell with incomple Pythin code as a starting point.. \n",
    "\n",
    "(be aware that simply running the next cell will result in some error messages..)"
   ]
  },
  {
   "cell_type": "code",
   "execution_count": null,
   "id": "aa454ca3-179f-4c2a-b408-6b75764b79da",
   "metadata": {},
   "outputs": [],
   "source": [
    "# Define filter constraints\n",
    "# Tip 1: use 'And' constraint: combined_filter = And([filter1, filter2, filter3])\n",
    "# Tip 2: use 'csw:Title', 'csw:AnyText' or 'csw:subject' (aka Keywords) for filtering\n",
    "\n",
    "# GetRecords() method\n",
    "csw.getrecords2(constraints=[combined_filter], maxrecords=20)\n",
    "\n",
    "# If there are results print the titles of them\n",
    "if csw.records is not None:\n",
    "    # Show results\n",
    "    for rec in csw.records.values():  # assuming response.records is a dictionary\n",
    "        print(rec.title)\n",
    "else:\n",
    "    print(\"There are no results found. Please try to improve your filters\")"
   ]
  },
  {
   "cell_type": "markdown",
   "id": "a3efa03b-e697-4d01-8900-876da12fafa7",
   "metadata": {},
   "source": [
    "## End of this exercise, please return to the main learning material"
   ]
  }
 ],
 "metadata": {
  "kernelspec": {
   "display_name": "Python 3 (ipykernel)",
   "language": "python",
   "name": "python3"
  },
  "language_info": {
   "codemirror_mode": {
    "name": "ipython",
    "version": 3
   },
   "file_extension": ".py",
   "mimetype": "text/x-python",
   "name": "python",
   "nbconvert_exporter": "python",
   "pygments_lexer": "ipython3",
   "version": "3.11.6"
  }
 },
 "nbformat": 4,
 "nbformat_minor": 5
}
